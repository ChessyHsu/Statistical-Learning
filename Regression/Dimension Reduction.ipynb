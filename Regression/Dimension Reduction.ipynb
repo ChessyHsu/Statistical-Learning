{
 "cells": [
  {
   "cell_type": "code",
   "execution_count": 64,
   "metadata": {
    "collapsed": true
   },
   "outputs": [],
   "source": [
    "#read data from csv\n",
    "import pandas as pd\n",
    "import numpy as np\n",
    "import matplotlib.pyplot as plt\n",
    "from sklearn.decomposition import PCA\n",
    "df_train=pd.read_csv('df1_train.csv')\n",
    "df_test_x=pd.read_csv('df1_test1.csv')\n",
    "df_test_y=pd.read_csv('df1_test1y.csv')\n",
    "#turn dataframe into numpy\n",
    "attributes=df_train.columns.values\n",
    "# x_train=np.array(df_train[attributes[1:]])\n",
    "# y_train=np.array(df_train['life_post_consumer'])\n",
    "# x_test=np.array(df_test_x)\n",
    "# y_test=np.array(df_test_y['life_post_consumer'])\n",
    "x_train=df_train[attributes[1:]]\n",
    "y_train=df_train['life_post_consumer']\n",
    "x_test=df_test_x\n",
    "y_test=df_test_y['life_post_consumer']\n",
    "def rmse(ypred, y):\n",
    "    return np.sqrt(np.mean((ypred-y)**2))"
   ]
  },
  {
   "cell_type": "code",
   "execution_count": 69,
   "metadata": {
    "collapsed": false
   },
   "outputs": [
    {
     "name": "stdout",
     "output_type": "stream",
     "text": [
      "(400, 43)\n"
     ]
    },
    {
     "data": {
      "image/png": "[encoded data removed]",
      "text/plain": [
       "<matplotlib.figure.Figure at 0x1a24165ac8>"
      ]
     },
     "metadata": {},
     "output_type": "display_data"
    }
   ],
   "source": [
    "# 把所有的feature都放進去\n",
    "# 看保留幾個解釋力進步最多的feature\n",
    "import pandas as pd\n",
    "from sklearn import preprocessing\n",
    "print(x_train.shape)\n",
    "estimator = PCA(n_components=43)\n",
    "pca_x_train = estimator.fit_transform(x_train)\n",
    "plt.plot(estimator.explained_variance_ratio_.cumsum(), '--o')\n",
    "plt.show()"
   ]
  },
  {
   "cell_type": "code",
   "execution_count": 68,
   "metadata": {
    "collapsed": false
   },
   "outputs": [
    {
     "name": "stdout",
     "output_type": "stream",
     "text": [
      "          0\n",
      "0  0.869358\n",
      "1  0.076643\n",
      "2  0.050943\n",
      "3  0.003050\n"
     ]
    },
    {
     "data": {
      "image/png": "[encoded data removed]",
      "text/plain": [
       "<matplotlib.figure.Figure at 0x1a23dfbc88>"
      ]
     },
     "metadata": {},
     "output_type": "display_data"
    },
    {
     "name": "stdout",
     "output_type": "stream",
     "text": [
      "           comp_page_like          Paid  life_post_reach  \\\n",
      "feature-1       -0.028950 -5.647385e-08         0.109400   \n",
      "feature-2       -0.082370  2.968364e-06         0.961503   \n",
      "feature-3       -0.996173 -1.363416e-06        -0.081787   \n",
      "feature-4        0.003741  9.473061e-07         0.238442   \n",
      "\n",
      "           life_post_impression_liked  life_post_reach_liked   comment  \\\n",
      "feature-1                    0.991073               0.070475  0.000067   \n",
      "feature-2                   -0.124932               0.230408  0.000172   \n",
      "feature-3                   -0.018312              -0.024710 -0.000068   \n",
      "feature-4                    0.042787              -0.969940 -0.000833   \n",
      "\n",
      "               like     share     type_link   type_status  ...         hour5  \\\n",
      "feature-1  0.001104  0.000099 -5.712911e-08  2.512274e-08  ... -2.226713e-08   \n",
      "feature-2  0.005593  0.000451  5.937016e-07 -1.399527e-07  ...  1.102015e-07   \n",
      "feature-3 -0.001967 -0.000060  7.696208e-07 -2.991518e-06  ...  4.918480e-07   \n",
      "feature-4 -0.022638 -0.001980  3.650489e-06 -1.786600e-05  ... -1.286279e-06   \n",
      "\n",
      "                  hour6         hour7         hour8         hour9  \\\n",
      "feature-1 -3.214789e-08  5.550005e-07 -7.702496e-08 -1.261063e-07   \n",
      "feature-2  1.849618e-07 -7.727408e-07 -5.402626e-07 -7.686609e-07   \n",
      "feature-3  7.273304e-07  4.901953e-07  1.655232e-07 -1.290652e-06   \n",
      "feature-4 -1.015417e-07  2.035809e-06  2.080831e-06  2.370606e-07   \n",
      "\n",
      "                 hour10        hour11        hour12        hour13  \\\n",
      "feature-1 -3.159166e-08 -2.041960e-07 -5.637670e-08  4.881962e-07   \n",
      "feature-2  6.751370e-07 -1.118216e-06  2.677984e-07  8.637012e-07   \n",
      "feature-3 -3.529050e-06 -1.528975e-06  8.709620e-07  2.925573e-06   \n",
      "feature-4 -6.217857e-06  3.149926e-06 -1.674351e-06 -5.715046e-06   \n",
      "\n",
      "                 hour14  \n",
      "feature-1  4.662531e-08  \n",
      "feature-2  1.096752e-06  \n",
      "feature-3  3.989394e-07  \n",
      "feature-4 -9.998553e-07  \n",
      "\n",
      "[4 rows x 43 columns]\n"
     ]
    },
    {
     "name": "stderr",
     "output_type": "stream",
     "text": [
      "/Users/chessy/anaconda3/lib/python3.5/site-packages/ipykernel/__main__.py:8: DataConversionWarning: Data with input dtype int64 were all converted to float64 by the scale function.\n"
     ]
    }
   ],
   "source": [
    "# 決定降維成4\n",
    "# 印出feture相對解釋力每個feature相對原本feature的組成\n",
    "# 把test資料也降維\n",
    "import pandas as pd\n",
    "from sklearn import preprocessing\n",
    "estimator = PCA(n_components=4)\n",
    "pca_x_train = estimator.fit_transform(x_train)\n",
    "print(pd.DataFrame(estimator.explained_variance_ratio_))\n",
    "plt.plot(estimator.explained_variance_ratio_.cumsum(), '--o')\n",
    "plt.show()\n",
    "data_scaled = pd.DataFrame(preprocessing.scale(x_train),columns = x_train.columns) \n",
    "print(pd.DataFrame(estimator.components_,columns=data_scaled.columns,index = ['feature-1','feature-2','feature-3','feature-4']))\n",
    "pca_X_test = estimator.transform(x_test)"
   ]
  }
 ],
 "metadata": {
  "anaconda-cloud": {},
  "kernelspec": {
   "display_name": "Python [conda env:anaconda3]",
   "language": "python",
   "name": "conda-env-anaconda3-py"
  },
  "language_info": {
   "codemirror_mode": {
    "name": "ipython",
    "version": 3
   },
   "file_extension": ".py",
   "mimetype": "text/x-python",
   "name": "python",
   "nbconvert_exporter": "python",
   "pygments_lexer": "ipython3",
   "version": "3.5.2"
  }
 },
 "nbformat": 4,
 "nbformat_minor": 2
}
